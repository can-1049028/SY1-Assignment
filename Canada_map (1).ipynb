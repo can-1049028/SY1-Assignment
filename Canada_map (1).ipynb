{
 "cells": [
  {
   "cell_type": "code",
   "execution_count": 68,
   "metadata": {},
   "outputs": [],
   "source": [
    "import geopandas as gpd\n",
    "import matplotlib.pyplot as plt\n",
    "import pandas as pd\n",
    "from shapely.geometry import Point\n",
    "from shapely.geometry import LineString\n",
    "from shapely.geometry import Polygon"
   ]
  },
  {
   "cell_type": "code",
   "execution_count": 85,
   "metadata": {},
   "outputs": [],
   "source": [
    "startpoint = [-127.4539832,50.7310306]\n",
    "road_startpoint = [-127.4541603, 50.7254152]\n",
    "df_houses = pd.DataFrame(columns=['col1','geometry'])\n",
    "df_lines = pd.DataFrame(columns=['col1','geometry'])\n",
    "df_connectors = pd.DataFrame(columns=['col1','geometry'])\n",
    "df_transformers = pd.DataFrame(columns=['col1','geometry'])\n",
    "df_roads = pd.DataFrame(columns=['col1','geometry'])\n",
    "Xstep = 1/111000*25/0.636\n",
    "Ystep_lane = 1/111000*40/0.636\n",
    "Ystep_block = 1/111000*80/0.636\n",
    "road_width = 1/111000*10/0.636"
   ]
  },
  {
   "cell_type": "code",
   "execution_count": 70,
   "metadata": {},
   "outputs": [
    {
     "name": "stdout",
     "output_type": "stream",
     "text": [
      "        col1                     geometry\n",
      "0      name1  POINT (-127.45398 50.73103)\n",
      "1      name2  POINT (-127.45363 50.73103)\n",
      "2      name3  POINT (-127.45327 50.73103)\n",
      "3      name4  POINT (-127.45292 50.73103)\n",
      "4      name5  POINT (-127.45257 50.73103)\n",
      "..       ...                          ...\n",
      "197  name198  POINT (-127.44265 50.72706)\n",
      "198  name199  POINT (-127.44230 50.73046)\n",
      "199  name199  POINT (-127.44230 50.72876)\n",
      "200  name199  POINT (-127.44230 50.72706)\n",
      "201  name199  POINT (-127.45398 50.72593)\n",
      "\n",
      "[202 rows x 2 columns]\n"
     ]
    },
    {
     "data": {
      "image/png": "[encoded data removed]",
      "text/plain": [
       "<Figure size 720x1440 with 1 Axes>"
      ]
     },
     "metadata": {
      "needs_background": "light"
     },
     "output_type": "display_data"
    }
   ],
   "source": [
    "#Houses mapping\n",
    "for k in range (3):\n",
    "    Y1 = startpoint[1]-Ystep_lane*k-Ystep_block*k\n",
    "    for i in range(2):\n",
    "        Y = Y1-Ystep_lane*i\n",
    "        for j in range(33):\n",
    "            X = startpoint[0]+Xstep*j\n",
    "            newpoint=Point(X,Y)\n",
    "            coords=(X,Y)      \n",
    "            df_houses = df_houses.append({'col1':\"name{}\".format(k*66+i*33+j+1),'geometry': newpoint}, ignore_index=True)\n",
    "\n",
    "X = startpoint[0]+Xstep*33\n",
    "Y = startpoint[1]-Ystep_lane\n",
    "newpoint=Point(X,Y)\n",
    "df_houses = df_houses.append({'col1':\"name199\",'geometry': newpoint}, ignore_index=True)\n",
    "\n",
    "X = startpoint[0]+Xstep*33\n",
    "Y = startpoint[1]-Ystep_lane*2-Ystep_block\n",
    "newpoint=Point(X,Y)\n",
    "df_houses = df_houses.append({'col1':\"name199\",'geometry': newpoint}, ignore_index=True)\n",
    "\n",
    "X = startpoint[0]+Xstep*33\n",
    "Y = startpoint[1]-Ystep_lane*3-Ystep_block*2\n",
    "newpoint=Point(X,Y)\n",
    "df_houses = df_houses.append({'col1':\"name199\",'geometry': newpoint}, ignore_index=True)\n",
    "\n",
    "X = startpoint[0]\n",
    "Y = startpoint[1]-Ystep_lane*3-Ystep_block*3\n",
    "newpoint=Point(X,Y)\n",
    "df_houses = df_houses.append({'col1':\"name199\",'geometry': newpoint}, ignore_index=True)\n",
    "gdf = gpd.GeoDataFrame(df_houses, crs=\"EPSG:4326\")\n",
    "gdf.plot(figsize=(10,20))\n",
    "print(df_houses)\n",
    "gdf.to_file(\"canada_task_houses.shp\")"
   ]
  },
  {
   "cell_type": "code",
   "execution_count": 71,
   "metadata": {},
   "outputs": [],
   "source": [
    "#roads mapping\n",
    "point1=road_startpoint\n",
    "point2=(road_startpoint[0]-road_width,road_startpoint[1])\n",
    "point3=(road_startpoint[0]-road_width,startpoint[1]-Ystep_lane/2+road_width/2)\n",
    "point4=(road_startpoint[0],startpoint[1]-Ystep_lane/2+road_width/2)\n",
    "df_roads=df_roads.append({'col1':\"name1\",'geometry': Polygon([point1,point2,point3,point4])}, ignore_index=True)\n",
    "for k in range (3):\n",
    "    Y_upper=startpoint[1]-Ystep_lane*k-Ystep_block*k-Ystep_lane/2+road_width/2\n",
    "    point1=(road_startpoint[0],Y_upper)\n",
    "    point2=(road_startpoint[0],Y_upper-road_width)\n",
    "    point3=(road_startpoint[0]+Xstep*35,Y_upper-road_width)\n",
    "    point4=(road_startpoint[0]+Xstep*35,Y_upper)\n",
    "    df_roads=df_roads.append({'col1':\"name2\",'geometry': Polygon([point1,point2,point3,point4])}, ignore_index=True)\n",
    "Y_upper=startpoint[1]-Ystep_lane*3-Ystep_block*3-Ystep_lane/2+road_width/2\n",
    "point1=(road_startpoint[0],Y_upper)\n",
    "point2=(road_startpoint[0],Y_upper-road_width)\n",
    "point3=(road_startpoint[0]+Xstep*2,Y_upper-road_width)\n",
    "point4=(road_startpoint[0]+Xstep*2,Y_upper)\n",
    "df_roads=df_roads.append({'col1':\"name2\",'geometry': Polygon([point1,point2,point3,point4])}, ignore_index=True)\n",
    "gdf = gpd.GeoDataFrame(df_roads, crs=\"EPSG:4326\")\n",
    "gdf.to_file(\"canada_task_roads.shp\")"
   ]
  },
  {
   "cell_type": "code",
   "execution_count": 72,
   "metadata": {},
   "outputs": [],
   "source": [
    "#transformers mapping\n",
    "trafo_startpoint=(startpoint[0]+Xstep, startpoint[1]-Ystep_lane/2-road_width/2)\n",
    "for k in range (3):\n",
    "    Y = trafo_startpoint[1]-Ystep_lane*k-Ystep_block*k\n",
    "    for j in range(11):\n",
    "        X = trafo_startpoint[0]+Xstep*3*j\n",
    "        newpoint=Point(X,Y)\n",
    "        coords=(X,Y)      \n",
    "        df_transformers = df_transformers.append({'col1':\"name{}\".format(k*33+j+1),'geometry': newpoint}, ignore_index=True)\n",
    "X = startpoint[0]\n",
    "Y = trafo_startpoint[1]-Ystep_lane*3-Ystep_block*3+road_width\n",
    "newpoint=Point(X,Y)       \n",
    "df_transformers = df_transformers.append({'col1':\"name34\",'geometry': newpoint}, ignore_index=True)\n",
    "gdf = gpd.GeoDataFrame(df_transformers, crs=\"EPSG:4326\")\n",
    "gdf.to_file(\"canada_task_transformers.shp\")"
   ]
  },
  {
   "cell_type": "code",
   "execution_count": 86,
   "metadata": {},
   "outputs": [],
   "source": [
    "#main lines mapping (grid to transformers)\n",
    "point1=road_startpoint\n",
    "point2=(road_startpoint[0],startpoint[1]-Ystep_lane/2-road_width/2)\n",
    "df_lines=df_lines.append({'col1':\"name\",'geometry': LineString([point1,point2])}, ignore_index=True)\n",
    "for k in range (3):\n",
    "    Y=startpoint[1]-Ystep_lane*k-Ystep_block*k-Ystep_lane/2-road_width/2\n",
    "    point1=(road_startpoint[0],Y)\n",
    "    point2=(road_startpoint[0]+Xstep*31+Xstep/2,Y)\n",
    "    df_lines=df_lines.append({'col1':\"name\",'geometry': LineString([point1,point2])}, ignore_index=True)\n",
    "Y=startpoint[1]-Ystep_lane*3-Ystep_block*3-Ystep_lane/2+road_width/2\n",
    "point1=(road_startpoint[0],Y)\n",
    "point2=(road_startpoint[0]+Xstep/2,Y)\n",
    "df_lines=df_lines.append({'col1':\"name\",'geometry': LineString([point1,point2])}, ignore_index=True)\n",
    "gdf = gpd.GeoDataFrame(df_lines, crs=\"EPSG:4326\")\n",
    "gdf.to_file(\"canada_task_lines.shp\")"
   ]
  },
  {
   "cell_type": "code",
   "execution_count": 74,
   "metadata": {},
   "outputs": [],
   "source": [
    "#small lines mapping (transformers to houses)\n",
    "Ystep_short=Ystep_lane/2-road_width/2\n",
    "Ystep_long=Ystep_lane/2+road_width/2\n",
    "for k in range (3):\n",
    "    Y = trafo_startpoint[1]-Ystep_lane*k-Ystep_block*k\n",
    "    for j in range(11):\n",
    "        point0=(trafo_startpoint[0]+Xstep*3*j,Y)\n",
    "        point1=(point0[0],point0[1]-Ystep_short)\n",
    "        df_connectors=df_connectors.append({'col1':\"name\",'geometry': LineString([point0,point1])}, ignore_index=True)\n",
    "        point2=(point0[0],point0[1]+Ystep_long)\n",
    "        df_connectors=df_connectors.append({'col1':\"name\",'geometry': LineString([point0,point2])}, ignore_index=True)\n",
    "        point3=(point0[0]-Xstep,point0[1])\n",
    "        point4=(point0[0]-Xstep,point0[1]-Ystep_short)\n",
    "        df_connectors=df_connectors.append({'col1':\"name\",'geometry': LineString([point0,point3,point4])}, ignore_index=True)\n",
    "        point5=(point0[0]-Xstep,point0[1]+Ystep_long)\n",
    "        df_connectors=df_connectors.append({'col1':\"name\",'geometry': LineString([point0,point3,point5])}, ignore_index=True)\n",
    "        point6=(point0[0]+Xstep,point0[1])\n",
    "        point7=(point0[0]+Xstep,point0[1]-Ystep_short)\n",
    "        df_connectors=df_connectors.append({'col1':\"name\",'geometry': LineString([point0,point6,point7])}, ignore_index=True)\n",
    "        point8=(point0[0]+Xstep,point0[1]+Ystep_long)\n",
    "        df_connectors=df_connectors.append({'col1':\"name\",'geometry': LineString([point0,point6,point8])}, ignore_index=True)\n",
    "\n",
    "Y = trafo_startpoint[1]-Ystep_lane*3-Ystep_block*3+road_width\n",
    "point0=(startpoint[0],Y)\n",
    "point1=(startpoint[0],Y+Ystep_short)\n",
    "df_connectors=df_connectors.append({'col1':\"name\",'geometry': LineString([point0,point1])}, ignore_index=True)\n",
    "\n",
    "point0=(trafo_startpoint[0]+Xstep*30,trafo_startpoint[1])\n",
    "point1=(trafo_startpoint[0]+Xstep*32,trafo_startpoint[1])\n",
    "point2=(trafo_startpoint[0]+Xstep*32,trafo_startpoint[1]-Ystep_short)\n",
    "df_connectors=df_connectors.append({'col1':\"name\",'geometry': LineString([point0,point1, point2])}, ignore_index=True)\n",
    "\n",
    "point0=(trafo_startpoint[0]+Xstep*30,trafo_startpoint[1]-Ystep_block-Ystep_lane)\n",
    "point1=(trafo_startpoint[0]+Xstep*32,trafo_startpoint[1]-Ystep_block-Ystep_lane)\n",
    "point2=(trafo_startpoint[0]+Xstep*32,trafo_startpoint[1]-Ystep_block-Ystep_lane-Ystep_short)\n",
    "df_connectors=df_connectors.append({'col1':\"name\",'geometry': LineString([point0,point1, point2])}, ignore_index=True)\n",
    "\n",
    "point0=(trafo_startpoint[0]+Xstep*30,trafo_startpoint[1]-Ystep_block*2-Ystep_lane*2)\n",
    "point1=(trafo_startpoint[0]+Xstep*32,trafo_startpoint[1]-Ystep_block*2-Ystep_lane*2)\n",
    "point2=(trafo_startpoint[0]+Xstep*32,trafo_startpoint[1]-Ystep_block*2-Ystep_lane*2-Ystep_short)\n",
    "df_connectors=df_connectors.append({'col1':\"name\",'geometry': LineString([point0,point1, point2])}, ignore_index=True)\n",
    "\n",
    "\n",
    "\n",
    "gdf = gpd.GeoDataFrame(df_connectors, crs=\"EPSG:4326\")\n",
    "gdf.to_file(\"canada_task_connectors.shp\")"
   ]
  },
  {
   "cell_type": "code",
   "execution_count": null,
   "metadata": {},
   "outputs": [],
   "source": []
  },
  {
   "cell_type": "code",
   "execution_count": null,
   "metadata": {},
   "outputs": [],
   "source": []
  },
  {
   "cell_type": "code",
   "execution_count": null,
   "metadata": {},
   "outputs": [],
   "source": []
  },
  {
   "cell_type": "code",
   "execution_count": null,
   "metadata": {},
   "outputs": [],
   "source": []
  }
 ],
 "metadata": {
  "kernelspec": {
   "display_name": "Python 3",
   "language": "python",
   "name": "python3"
  },
  "language_info": {
   "codemirror_mode": {
    "name": "ipython",
    "version": 3
   },
   "file_extension": ".py",
   "mimetype": "text/x-python",
   "name": "python",
   "nbconvert_exporter": "python",
   "pygments_lexer": "ipython3",
   "version": "3.7.7"
  }
 },
 "nbformat": 4,
 "nbformat_minor": 4
}
